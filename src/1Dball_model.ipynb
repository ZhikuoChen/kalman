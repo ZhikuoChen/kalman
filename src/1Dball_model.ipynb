{
 "cells": [
  {
   "cell_type": "code",
   "execution_count": 1,
   "metadata": {
    "collapsed": true
   },
   "outputs": [],
   "source": [
    "%matplotlib inline\n",
    "import numpy as np\n",
    "import sympy\n",
    "from sympy import init_printing, Matrix, MatMul, integrate, symbols, expand, factor\n",
    "init_printing()\n",
    "from IPython.display import display, Latex, Math\n",
    "import matplotlib\n",
    "import matplotlib.pyplot as pl"
   ]
  },
  {
   "cell_type": "markdown",
   "metadata": {},
   "source": [
    "# Design of a simple 1D Kalman filter\n",
    "The following filter models the design for a Kalman filter estimating the position and speed of a falling ball, where the motion is governed by the gravity and only the position is measured.\n",
    "\n",
    "## Setting up the environment  "
   ]
  },
  {
   "cell_type": "code",
   "execution_count": 2,
   "metadata": {},
   "outputs": [],
   "source": [
    "dt = symbols('\\Delta{t}')\n",
    "s_0, v_0, a_0 = symbols('s_0 v_0 a_0')\n",
    "a_1 = symbols('a_1')\n",
    "phi_s = symbols('\\Phi_s')"
   ]
  },
  {
   "cell_type": "markdown",
   "metadata": {},
   "source": [
    "## State variables and control vector  \n"
   ]
  },
  {
   "cell_type": "code",
   "execution_count": 3,
   "metadata": {},
   "outputs": [],
   "source": [
    "x0 = np.array([[s_0], [v_0]])\n",
    "u1 = np.array([[a_1], [a_1]])"
   ]
  },
  {
   "cell_type": "markdown",
   "metadata": {},
   "source": [
    "## State transition function  "
   ]
  },
  {
   "cell_type": "code",
   "execution_count": 4,
   "metadata": {},
   "outputs": [],
   "source": [
    "F = Matrix([\n",
    "    [1., dt],\n",
    "    [0., 1.]\n",
    "])\n",
    "\n",
    "B = Matrix([\n",
    "    [ 0.5 * dt ** 2, 0.],\n",
    "    [0, dt]\n",
    "])"
   ]
  },
  {
   "cell_type": "code",
   "execution_count": 5,
   "metadata": {},
   "outputs": [
    {
     "data": {
      "text/latex": [
       "$$\\left[\\begin{matrix}0.5 \\Delta{t}^{2} a_{1} + \\Delta{t} v_{0} + 1.0 s_{0}\\\\\\Delta{t} a_{1} + 1.0 v_{0}\\end{matrix}\\right]$$"
      ],
      "text/plain": [
       "⎡             2                           ⎤\n⎢0.5⋅\\Delta{t} ⋅a₁ + \\Delta{t}⋅v₀ + 1.0⋅s₀⎥\n⎢                                         ⎥\n⎣          \\Delta{t}⋅a₁ + 1.0⋅v₀          ⎦"
      ]
     },
     "metadata": {},
     "output_type": "display_data"
    }
   ],
   "source": [
    "F * x0 + B * u1"
   ]
  },
  {
   "cell_type": "markdown",
   "metadata": {},
   "source": [
    "## Design of the Process Noise Matrix  \n",
    "Discretization of the noise is modelled after: $$ \\mathbf{Q} = \\int_0^{\\Delta t} \\mathbf{F}(t)\\mathbf{Q}_c \\mathbf{F}^{T}(t) dt $$ where $$ \\mathbf{Q}_c = \\left[\\begin{array}{cc}1 & 0 \\\\ 0 & 0\\end{array}\\right] \\Phi_s $$\n",
    "and\n",
    "$$ \\Phi_s $$ is the spectral density of the white noise, which will be found experimentally."
   ]
  },
  {
   "cell_type": "code",
   "execution_count": 6,
   "metadata": {},
   "outputs": [
    {
     "data": {
      "text/latex": [
       "$$\\left[\\begin{matrix}0.333333333333333 \\Delta{t}^{3} & 0.5 \\Delta{t}^{2}\\\\0.5 \\Delta{t}^{2} & 1.0 \\Delta{t}\\end{matrix}\\right] \\Phi_s$$"
      ],
      "text/plain": [
       "⎡                           3               2⎤      \n⎢0.333333333333333⋅\\Delta{t}   0.5⋅\\Delta{t} ⎥⋅\\Phiₛ\n⎢                                            ⎥      \n⎢                    2                       ⎥      \n⎣       0.5⋅\\Delta{t}          1.0⋅\\Delta{t} ⎦      "
      ]
     },
     "metadata": {},
     "output_type": "display_data"
    }
   ],
   "source": [
    "Q_c = Matrix([[0., 0.], [0., 1.]]) * phi_s\n",
    "F_q = F * Q_c * F.transpose()\n",
    "Q = sympy.integrate(F_q, (dt, 0., dt)) / phi_s\n",
    "sympy.MatMul(Q, phi_s)"
   ]
  },
  {
   "cell_type": "markdown",
   "metadata": {},
   "source": [
    ""
   ]
  },
  {
   "cell_type": "code",
   "execution_count": null,
   "metadata": {},
   "outputs": [],
   "source": [
    ""
   ]
  }
 ],
 "metadata": {
  "kernelspec": {
   "display_name": "Python 2",
   "language": "python",
   "name": "python2"
  },
  "language_info": {
   "codemirror_mode": {
    "name": "ipython",
    "version": 2.0
   },
   "file_extension": ".py",
   "mimetype": "text/x-python",
   "name": "python",
   "nbconvert_exporter": "python",
   "pygments_lexer": "ipython2",
   "version": "2.7.6"
  }
 },
 "nbformat": 4,
 "nbformat_minor": 0
}