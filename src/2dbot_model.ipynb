{
 "cells": [
  {
   "cell_type": "code",
   "execution_count": 1,
   "metadata": {
    "collapsed": true
   },
   "outputs": [],
   "source": [
    "%matplotlib inline\n",
    "import numpy as np\n",
    "import sympy\n",
    "from sympy import symbols, expand, factor\n",
    "import matplotlib\n",
    "import matplotlib.pyplot as pl"
   ]
  },
  {
   "cell_type": "code",
   "execution_count": 2,
   "metadata": {},
   "outputs": [],
   "source": [
    "# Setup symbols\n",
    "x_0, y_0, xx_0, yy_0, xxx_0, yyy_0, theta_0, omega_0, alpha_0  = symbols('x_0 y_0 xx_0 yy_0 xxx_0 yyy_0 theta_0 omega_0 alpha_0')\n",
    "x_1, y_1, xx_1, yy_1, xxx_1, yyy_1, theta_1, omega_1, alpha_1  = symbols('x_1 y_1 xx_1 yy_1 xxx_1 yyy_1 theta_1 omega_1 alpha_1')\n",
    "dt = symbols('dt')"
   ]
  },
  {
   "cell_type": "code",
   "execution_count": 3,
   "metadata": {},
   "outputs": [],
   "source": [
    "# setup transition matrixes\n",
    "F = np.array([\n",
    "    [1., 0., dt, 0., 0.5*dt**2, 0., 0., 0., 0.],\n",
    "    [0., 1., 0., dt, 0., 0.5*dt**2, 0., 0., 0.],\n",
    "    [0., 0., 0., 0., 0., 0., 0., 0., 0.],\n",
    "    [0., 0., 0., 0., 0., 0, 0., 0., 0.],\n",
    "    [0., 0., 0., 0., 1., 0., 0., 0., 0.],\n",
    "    [0., 0., 0., 0., 0., 1., 0., 0., 0.],\n",
    "    [0., 0., 0., 0, 0., 0., 1., dt, 0.5 * dt ** 2],\n",
    "    [0., 0., 0., 0, 0., 0., 0., 1., dt],\n",
    "    [0., 0., 0., 0, 0., 0., 0., -1. / dt, 1]\n",
    "])\n",
    "\n",
    "B = np.array([\n",
    "    [0., 0., 0., 0., 0., 0., 0., 0., 0.],\n",
    "    [0., 0., 0., 0., 0., 0., 0., 0., 0.],\n",
    "    [0., 0., 1., 0., 0., 0., 0., 0., 0.],\n",
    "    [0., 0., 0., 1., 0., 0., 0., 0., 0.],\n",
    "    [0., 0., 0., 0., 0., 0., 0., 0., 0.],\n",
    "    [0., 0., 0., 0., 0., 0., 0., 0., 0.],\n",
    "    [0., 0., 0., 0., 0., 0., 0., 0., 0.],\n",
    "    [0., 0., 0., 0., 0., 0., 0., 0., 0.],\n",
    "    [0., 0., 0., 0., 0., 0., 0., 0., 0.]\n",
    "])"
   ]
  },
  {
   "cell_type": "code",
   "execution_count": 4,
   "metadata": {},
   "outputs": [],
   "source": [
    "#setup state and control vector\n",
    "x0  = np.array([[x_0], [y_0], [xx_0], [yy_0], [xxx_0], [yyy_0], [theta_0], [omega_0], [alpha_0]])\n",
    "u1  = np.array([[x_1], [y_1], [xx_1], [yy_1], [xxx_1], [yyy_1], [theta_1], [omega_1], [alpha_1]])"
   ]
  },
  {
   "cell_type": "code",
   "execution_count": 5,
   "metadata": {},
   "outputs": [
    {
     "data": {
      "text/plain": [
       "array([[0.5*dt**2*xxx_0 + dt*xx_0 + 1.0*x_0],\n       [0.5*dt**2*yyy_0 + dt*yy_0 + 1.0*y_0],\n       [1.0*xx_1],\n       [1.0*yy_1],\n       [1.0*xxx_0],\n       [1.0*yyy_0],\n       [0.5*alpha_0*dt**2 + dt*omega_0 + 1.0*theta_0],\n       [alpha_0*dt + 1.0*omega_0],\n       [alpha_0 - 1.0*omega_0/dt]], dtype=object)"
      ]
     },
     "execution_count": 5,
     "metadata": {},
     "output_type": "execute_result"
    }
   ],
   "source": [
    "F.dot(x0) + B.dot(u1)"
   ]
  },
  {
   "cell_type": "code",
   "execution_count": null,
   "metadata": {},
   "outputs": [],
   "source": [
    ""
   ]
  }
 ],
 "metadata": {
  "kernelspec": {
   "display_name": "Python 2",
   "language": "python",
   "name": "python2"
  },
  "language_info": {
   "codemirror_mode": {
    "name": "ipython",
    "version": 2.0
   },
   "file_extension": ".py",
   "mimetype": "text/x-python",
   "name": "python",
   "nbconvert_exporter": "python",
   "pygments_lexer": "ipython2",
   "version": "2.7.6"
  }
 },
 "nbformat": 4,
 "nbformat_minor": 0
}