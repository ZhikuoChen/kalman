{
 "cells": [
  {
   "cell_type": "code",
   "execution_count": 7,
   "metadata": {
    "collapsed": true
   },
   "outputs": [],
   "source": [
    "%matplotlib inline\n",
    "import numpy as np\n",
    "import sympy\n",
    "from sympy import init_printing, Matrix, MatMul, integrate, symbols, expand, factor\n",
    "init_printing()\n",
    "from IPython.display import display, Latex, Math\n",
    "import matplotlib\n",
    "import matplotlib.pyplot as pl"
   ]
  },
  {
   "cell_type": "code",
   "execution_count": 8,
   "metadata": {},
   "outputs": [],
   "source": [
    "# Setup symbols\n",
    "x_0, y_0, xx_0, yy_0, xxx_0, yyy_0, theta_0, omega_0, alpha_0  = symbols('x_0 y_0 \\dot{x}_0 \\dot{y}_0 \\ddot{x}_0 \\ddot{y}_0 \\theta_0 \\omega_0 \\alpha_0')\n",
    "x_1, y_1, xx_1, yy_1, xxx_1, yyy_1, theta_1, omega_1, alpha_1  = symbols('x_1 y_1 \\dot{x}_1 \\dot{y}_1 \\ddot{x}_1 \\ddot{y}_1 \\theta_1 \\omega_1 \\alpha_1')\n",
    "dt = symbols('\\Delta{t}')\n",
    "phi_s = symbols('\\phi_s')"
   ]
  },
  {
   "cell_type": "code",
   "execution_count": 9,
   "metadata": {},
   "outputs": [],
   "source": [
    "# setup transition matrixes\n",
    "F = Matrix([\n",
    "        [1., 0., 0.5 * dt ** 2, 0., 0., 0., 0., 0., 0.],\n",
    "        [0., 0., 0., 0., 0., 0., 0., 0., 0.],\n",
    "        [0., 0., 1., 0., 0., 0., 0., 0., 0.],\n",
    "        [0., 0., 0., 1., 0., 0.5 * dt ** 2, 0., 0., 0.],\n",
    "        [0., 0., 0., 0., 0., 0., 0., 0., 0.],\n",
    "        [0., 0., 0., 0., 0., 1., 0., 0., 0., ],\n",
    "        [0., 0., 0., 0., 0., 0., 1., dt, 0.5 * dt ** 2],\n",
    "        [0., 0., 0., 0., 0., 0., 0., 1., dt],\n",
    "        [0., 0., 0., 0., 0., 0., 0., 0., 1.]\n",
    "])\n",
    "\n",
    "B = Matrix([\n",
    "        [0., dt, 0., 0., 0., 0., 0., 0., 0.],\n",
    "        [0., 1., 0., 0., 0., 0., 0., 0., 0.],\n",
    "        [0., 0., 0., 0., 0., 0., 0., 0., 0.],\n",
    "        [0., 0., 0., 0., dt, 0., 0., 0., 0.],\n",
    "        [0., 0., 0., 0., 1., 0., 0., 0., 0.],\n",
    "        [0., 0., 0., 0., 0., 0., 0., 0., 0.],\n",
    "        [0., 0., 0., 0., 0., 0., 0., 0., 0.],\n",
    "        [0., 0., 0., 0., 0., 0., 0., 0., 0.],\n",
    "        [0., 0., 0., 0., 0., 0., 0., 0., 0.]\n",
    "])"
   ]
  },
  {
   "cell_type": "code",
   "execution_count": 10,
   "metadata": {},
   "outputs": [],
   "source": [
    "#setup state and control vector\n",
    "x0  = np.array([[x_0], [xx_0], [xxx_0], [y_0], [yy_0], [yyy_0], [theta_0], [omega_0], [alpha_0]])\n",
    "u1  = np.array([[x_1], [xx_1], [xxx_1], [y_1], [yy_1], [yyy_1], [theta_1], [omega_1], [alpha_1]])"
   ]
  },
  {
   "cell_type": "code",
   "execution_count": 11,
   "metadata": {
    "collapsed": false
   },
   "outputs": [
    {
     "data": {
      "text/latex": [
       "$$\\left[\\begin{matrix}0.5 \\Delta{t}^{2} \\ddot{x}_0 + \\Delta{t} \\dot{x}_1 + 1.0 x_{0}\\\\1.0 \\dot{x}_1\\\\1.0 \\ddot{x}_0\\\\0.5 \\Delta{t}^{2} \\ddot{y}_0 + \\Delta{t} \\dot{y}_1 + 1.0 y_{0}\\\\1.0 \\dot{y}_1\\\\1.0 \\ddot{y}_0\\\\0.5 \u0007lpha_{0} \\Delta{t}^{2} + \\Delta{t} \\omega_0 + 1.0 heta_{0}\\\\\u0007lpha_{0} \\Delta{t} + 1.0 \\omega_0\\\\1.0 \u0007lpha_{0}\\end{matrix}\\right]$$"
      ],
      "text/plain": [
       "⎡             2                                        ⎤\n⎢0.5⋅\\Delta{t} ⋅\\ddot{x}₀ + \\Delta{t}⋅\\dot{x}₁ + 1.0⋅x₀⎥\n⎢                                                      ⎥\n⎢                     1.0⋅\\dot{x}₁                     ⎥\n⎢                                                      ⎥\n⎢                    1.0⋅\\ddot{x}₀                     ⎥\n⎢                                                      ⎥\n⎢             2                                        ⎥\n⎢0.5⋅\\Delta{t} ⋅\\ddot{y}₀ + \\Delta{t}⋅\\dot{y}₁ + 1.0⋅y₀⎥\n⎢                                                      ⎥\n⎢                     1.0⋅\\dot{y}₁                     ⎥\n⎢                                                      ⎥\n⎢                    1.0⋅\\ddot{y}₀                     ⎥\n⎢                                                      ⎥\n⎢                    2                                 ⎥\n⎢0.5⋅\u0007lpha₀⋅\\Delta{t}  + \\Delta{t}⋅\\omega₀ + 1.0⋅heta₀ ⎥\n⎢                                                      ⎥\n⎢            \u0007lpha₀⋅\\Delta{t} + 1.0⋅\\omega₀            ⎥\n⎢                                                      ⎥\n⎣                      1.0⋅\u0007lpha₀                      ⎦"
      ]
     },
     "metadata": {},
     "output_type": "display_data"
    }
   ],
   "source": [
    "F *x0 + B * u1"
   ]
  },
  {
   "cell_type": "code",
   "execution_count": 39,
   "metadata": {},
   "outputs": [
    {
     "data": {
      "text/latex": [
       "$$\\left[\\begin{matrix}0.05 \\Delta{t}^{5} & 0 & 0.166666666666667 \\Delta{t}^{3} & 0 & 0 & 0 & 0 & 0 & 0\\\\0 & 0 & 0 & 0 & 0 & 0 & 0 & 0 & 0\\\\0.166666666666667 \\Delta{t}^{3} & 0 & 1.0 \\Delta{t} & 0 & 0 & 0 & 0 & 0 & 0\\\\0 & 0 & 0 & 0.05 \\Delta{t}^{5} & 0 & 0.166666666666667 \\Delta{t}^{3} & 0 & 0 & 0\\\\0 & 0 & 0 & 0 & 0 & 0 & 0 & 0 & 0\\\\0 & 0 & 0 & 0.166666666666667 \\Delta{t}^{3} & 0 & 1.0 \\Delta{t} & 0 & 0 & 0\\\\0 & 0 & 0 & 0 & 0 & 0 & 0.05 \\Delta{t}^{5} & 0.125 \\Delta{t}^{4} & 0.166666666666667 \\Delta{t}^{3}\\\\0 & 0 & 0 & 0 & 0 & 0 & 0.125 \\Delta{t}^{4} & 0.333333333333333 \\Delta{t}^{3} & 0.5 \\Delta{t}^{2}\\\\0 & 0 & 0 & 0 & 0 & 0 & 0.166666666666667 \\Delta{t}^{3} & 0.5 \\Delta{t}^{2} & 1.0 \\Delta{t}\\end{matrix}\\right] \\phi_s$$"
      ],
      "text/plain": [
       "Matrix([\n[             0.05*\\Delta{t}**5, 0, 0.166666666666667*\\Delta{t}**3,                              0, 0,                              0,                              0,                              0,                              0],\n[                             0, 0,                              0,                              0, 0,                              0,                              0,                              0,                              0],\n[0.166666666666667*\\Delta{t}**3, 0,                  1.0*\\Delta{t},                              0, 0,                              0,                              0,                              0,                              0],\n[                             0, 0,                              0,              0.05*\\Delta{t}**5, 0, 0.166666666666667*\\Delta{t}**3,                              0,                              0,                              0],\n[                             0, 0,                              0,                              0, 0,                              0,                              0,                              0,                              0],\n[                             0, 0,                              0, 0.166666666666667*\\Delta{t}**3, 0,                  1.0*\\Delta{t},                              0,                              0,                              0],\n[                             0, 0,                              0,                              0, 0,                              0,              0.05*\\Delta{t}**5,             0.125*\\Delta{t}**4, 0.166666666666667*\\Delta{t}**3],\n[                             0, 0,                              0,                              0, 0,                              0,             0.125*\\Delta{t}**4, 0.333333333333333*\\Delta{t}**3,               0.5*\\Delta{t}**2],\n[                             0, 0,                              0,                              0, 0,                              0, 0.166666666666667*\\Delta{t}**3,               0.5*\\Delta{t}**2,                  1.0*\\Delta{t}]])*\\phi_s"
      ]
     },
     "metadata": {},
     "output_type": "display_data"
    }
   ],
   "source": [
    "%precision 3\n",
    "Q_c = Matrix([[0., 0., 0., 0., 0., 0., 0., 0., 0.],\n",
    "              [0., 0., 0., 0., 0., 0., 0., 0., 0.],\n",
    "              [0., 0., 1., 0., 0., 0., 0., 0., 0.],\n",
    "              [0., 0., 0., 0., 0., 0., 0., 0., 0.],\n",
    "              [0., 0., 0., 0., 0., 0., 0., 0., 0.],\n",
    "              [0., 0., 0., 0., 0., 1., 0., 0., 0.],\n",
    "              [0., 0., 0., 0., 0., 0., 0., 0., 0.],\n",
    "              [0., 0., 0., 0., 0., 0., 0., 0., 0.],\n",
    "              [0., 0., 0., 0., 0., 0., 0., 0., 1.]\n",
    "              ]) * phi_s\n",
    "F_q = F * Q_c * F.transpose()\n",
    "Q = sympy.integrate(F_q, (dt, 0., dt)) / phi_s\n",
    "sympy.MatMul(Q, phi_s)"
   ]
  },
  {
   "cell_type": "code",
   "execution_count": null,
   "metadata": {},
   "outputs": [],
   "source": [
    ""
   ]
  }
 ],
 "metadata": {
  "kernelspec": {
   "display_name": "Python 2",
   "language": "python",
   "name": "python2"
  },
  "language_info": {
   "codemirror_mode": {
    "name": "ipython",
    "version": 2.0
   },
   "file_extension": ".py",
   "mimetype": "text/x-python",
   "name": "python",
   "nbconvert_exporter": "python",
   "pygments_lexer": "ipython2",
   "version": "2.7.6"
  }
 },
 "nbformat": 4,
 "nbformat_minor": 0
}